{
 "cells": [
  {
   "cell_type": "code",
   "execution_count": 1,
   "id": "d76625bc",
   "metadata": {
    "_cell_guid": "b1076dfc-b9ad-4769-8c92-a6c4dae69d19",
    "_uuid": "8f2839f25d086af736a60e9eeb907d3b93b6e0e5",
    "execution": {
     "iopub.execute_input": "2021-09-18T11:30:32.947869Z",
     "iopub.status.busy": "2021-09-18T11:30:32.939322Z",
     "iopub.status.idle": "2021-09-18T11:30:32.953437Z",
     "shell.execute_reply": "2021-09-18T11:30:32.954015Z",
     "shell.execute_reply.started": "2021-09-18T11:28:25.453684Z"
    },
    "papermill": {
     "duration": 0.028431,
     "end_time": "2021-09-18T11:30:32.954330",
     "exception": false,
     "start_time": "2021-09-18T11:30:32.925899",
     "status": "completed"
    },
    "tags": []
   },
   "outputs": [
    {
     "name": "stdout",
     "output_type": "stream",
     "text": [
      "/kaggle/input/bike-sharing-demand/sampleSubmission.csv\n",
      "/kaggle/input/bike-sharing-demand/train.csv\n",
      "/kaggle/input/bike-sharing-demand/test.csv\n"
     ]
    }
   ],
   "source": [
    "# This Python 3 environment comes with many helpful analytics libraries installed\n",
    "# It is defined by the kaggle/python Docker image: https://github.com/kaggle/docker-python\n",
    "# For example, here's several helpful packages to load\n",
    "\n",
    "import numpy as np # linear algebra\n",
    "import pandas as pd # data processing, CSV file I/O (e.g. pd.read_csv)\n",
    "\n",
    "# Input data files are available in the read-only \"../input/\" directory\n",
    "# For example, running this (by clicking run or pressing Shift+Enter) will list all files under the input directory\n",
    "\n",
    "import os\n",
    "for dirname, _, filenames in os.walk('/kaggle/input'):\n",
    "    for filename in filenames:\n",
    "        print(os.path.join(dirname, filename))\n",
    "\n",
    "# You can write up to 20GB to the current directory (/kaggle/working/) that gets preserved as output when you create a version using \"Save & Run All\" \n",
    "# You can also write temporary files to /kaggle/temp/, but they won't be saved outside of the current session"
   ]
  },
  {
   "cell_type": "code",
   "execution_count": 2,
   "id": "3aa2bc47",
   "metadata": {
    "execution": {
     "iopub.execute_input": "2021-09-18T11:30:32.979675Z",
     "iopub.status.busy": "2021-09-18T11:30:32.978981Z",
     "iopub.status.idle": "2021-09-18T11:30:34.124751Z",
     "shell.execute_reply": "2021-09-18T11:30:34.125363Z",
     "shell.execute_reply.started": "2021-09-18T11:28:25.465800Z"
    },
    "papermill": {
     "duration": 1.162042,
     "end_time": "2021-09-18T11:30:34.125592",
     "exception": false,
     "start_time": "2021-09-18T11:30:32.963550",
     "status": "completed"
    },
    "tags": []
   },
   "outputs": [],
   "source": [
    "import pandas as pd\n",
    "import numpy as np\n",
    "import seaborn as sns \n",
    "import matplotlib.pyplot as plt\n",
    "import xgboost as xgb\n",
    "from sklearn import preprocessing\n",
    "from sklearn.model_selection import train_test_split\n",
    "from sklearn.model_selection import cross_val_score\n",
    "from sklearn.metrics import accuracy_score\n",
    "\n",
    "%matplotlib inline "
   ]
  },
  {
   "cell_type": "code",
   "execution_count": 3,
   "id": "f80415b0",
   "metadata": {
    "execution": {
     "iopub.execute_input": "2021-09-18T11:30:34.154019Z",
     "iopub.status.busy": "2021-09-18T11:30:34.153335Z",
     "iopub.status.idle": "2021-09-18T11:30:34.155775Z",
     "shell.execute_reply": "2021-09-18T11:30:34.156278Z",
     "shell.execute_reply.started": "2021-09-18T11:28:25.480644Z"
    },
    "papermill": {
     "duration": 0.02104,
     "end_time": "2021-09-18T11:30:34.156551",
     "exception": false,
     "start_time": "2021-09-18T11:30:34.135511",
     "status": "completed"
    },
    "tags": []
   },
   "outputs": [],
   "source": [
    "def get_lag_time(df,col,n_back):\n",
    "    for i in range(n_back):\n",
    "        df[col+'-'+str(i+1)] = df[col].shift(i+1)\n",
    "    return df"
   ]
  },
  {
   "cell_type": "code",
   "execution_count": 4,
   "id": "fcf0edc6",
   "metadata": {
    "execution": {
     "iopub.execute_input": "2021-09-18T11:30:34.178004Z",
     "iopub.status.busy": "2021-09-18T11:30:34.177259Z",
     "iopub.status.idle": "2021-09-18T11:30:34.181983Z",
     "shell.execute_reply": "2021-09-18T11:30:34.182500Z",
     "shell.execute_reply.started": "2021-09-18T11:28:25.492489Z"
    },
    "papermill": {
     "duration": 0.017199,
     "end_time": "2021-09-18T11:30:34.182703",
     "exception": false,
     "start_time": "2021-09-18T11:30:34.165504",
     "status": "completed"
    },
    "tags": []
   },
   "outputs": [],
   "source": [
    "def get_lead_time(df,col,n_back):\n",
    "    for i in range(n_back):\n",
    "        df[col+'+'+str(i+1)] = df[col].shift(-(i+1))\n",
    "    return df"
   ]
  },
  {
   "cell_type": "code",
   "execution_count": 5,
   "id": "3e6c2d3c",
   "metadata": {
    "execution": {
     "iopub.execute_input": "2021-09-18T11:30:34.203270Z",
     "iopub.status.busy": "2021-09-18T11:30:34.202642Z",
     "iopub.status.idle": "2021-09-18T11:30:34.212951Z",
     "shell.execute_reply": "2021-09-18T11:30:34.213505Z",
     "shell.execute_reply.started": "2021-09-18T11:28:25.501903Z"
    },
    "papermill": {
     "duration": 0.022277,
     "end_time": "2021-09-18T11:30:34.213701",
     "exception": false,
     "start_time": "2021-09-18T11:30:34.191424",
     "status": "completed"
    },
    "tags": []
   },
   "outputs": [],
   "source": [
    "def read_edit(path):    \n",
    "        df = pd.read_csv(path)\n",
    "\n",
    "        # converting date to date time\n",
    "        df['datetime']=pd.to_datetime(df['datetime'])\n",
    "        df['date'] = pd.to_datetime(df['datetime']).dt.date\n",
    "        df['Time'] = pd.to_datetime(df['datetime']).dt.time\n",
    "        df['hour'] = pd.to_datetime(df['datetime']).dt.hour\n",
    "\n",
    "        # making date and night out of hours\n",
    "        df['label_day_night']=df['hour'].apply(lambda x : 'Night' if (x >20 or x<5) else( 'Day'))\n",
    "        # getting day names\n",
    "        df['week_day']=df['datetime'].dt.day_name()\n",
    "        # getting months\n",
    "        df['month']=df['datetime'].dt.month\n",
    "        # Encoding days of the week\n",
    "        mapping_dictDay={'Monday':1,'Tuesday':2,'Wednesday':3,'Thursday':4,'Friday':5,'Saturday':6,'Sunday':7}\n",
    "        df['week_day_encoding']=df['week_day'].map(mapping_dictDay)\n",
    "\n",
    "        # getting dummies for seasons,holiday,functioning_day\n",
    "\n",
    "        df['date'], Categorical= pd.factorize(df['date'])\n",
    "        df['week_day'], Categorical= pd.factorize(df['week_day'])\n",
    "\n",
    "        # applying lag_time & lead_time\n",
    "        df = get_lag_time(df,'windspeed',2)\n",
    "        df = get_lead_time(df,'temp',1)\n",
    "        \n",
    "\n",
    "        return df"
   ]
  },
  {
   "cell_type": "code",
   "execution_count": 6,
   "id": "5a638659",
   "metadata": {
    "execution": {
     "iopub.execute_input": "2021-09-18T11:30:34.233966Z",
     "iopub.status.busy": "2021-09-18T11:30:34.233203Z",
     "iopub.status.idle": "2021-09-18T11:30:34.588067Z",
     "shell.execute_reply": "2021-09-18T11:30:34.588555Z",
     "shell.execute_reply.started": "2021-09-18T11:28:25.513219Z"
    },
    "papermill": {
     "duration": 0.366614,
     "end_time": "2021-09-18T11:30:34.588755",
     "exception": false,
     "start_time": "2021-09-18T11:30:34.222141",
     "status": "completed"
    },
    "tags": []
   },
   "outputs": [
    {
     "data": {
      "text/html": [
       "<div>\n",
       "<style scoped>\n",
       "    .dataframe tbody tr th:only-of-type {\n",
       "        vertical-align: middle;\n",
       "    }\n",
       "\n",
       "    .dataframe tbody tr th {\n",
       "        vertical-align: top;\n",
       "    }\n",
       "\n",
       "    .dataframe thead th {\n",
       "        text-align: right;\n",
       "    }\n",
       "</style>\n",
       "<table border=\"1\" class=\"dataframe\">\n",
       "  <thead>\n",
       "    <tr style=\"text-align: right;\">\n",
       "      <th></th>\n",
       "      <th>season</th>\n",
       "      <th>holiday</th>\n",
       "      <th>workingday</th>\n",
       "      <th>weather</th>\n",
       "      <th>temp</th>\n",
       "      <th>humidity</th>\n",
       "      <th>windspeed</th>\n",
       "      <th>casual</th>\n",
       "      <th>registered</th>\n",
       "      <th>hour</th>\n",
       "      <th>month</th>\n",
       "      <th>week_day_encoding</th>\n",
       "      <th>windspeed-1</th>\n",
       "      <th>windspeed-2</th>\n",
       "      <th>temp+1</th>\n",
       "    </tr>\n",
       "  </thead>\n",
       "  <tbody>\n",
       "    <tr>\n",
       "      <th>0</th>\n",
       "      <td>1</td>\n",
       "      <td>0</td>\n",
       "      <td>0</td>\n",
       "      <td>1</td>\n",
       "      <td>9.84</td>\n",
       "      <td>81</td>\n",
       "      <td>0.0</td>\n",
       "      <td>3</td>\n",
       "      <td>13</td>\n",
       "      <td>0</td>\n",
       "      <td>1</td>\n",
       "      <td>6</td>\n",
       "      <td>NaN</td>\n",
       "      <td>NaN</td>\n",
       "      <td>9.02</td>\n",
       "    </tr>\n",
       "    <tr>\n",
       "      <th>1</th>\n",
       "      <td>1</td>\n",
       "      <td>0</td>\n",
       "      <td>0</td>\n",
       "      <td>1</td>\n",
       "      <td>9.02</td>\n",
       "      <td>80</td>\n",
       "      <td>0.0</td>\n",
       "      <td>8</td>\n",
       "      <td>32</td>\n",
       "      <td>1</td>\n",
       "      <td>1</td>\n",
       "      <td>6</td>\n",
       "      <td>0.0</td>\n",
       "      <td>NaN</td>\n",
       "      <td>9.02</td>\n",
       "    </tr>\n",
       "    <tr>\n",
       "      <th>2</th>\n",
       "      <td>1</td>\n",
       "      <td>0</td>\n",
       "      <td>0</td>\n",
       "      <td>1</td>\n",
       "      <td>9.02</td>\n",
       "      <td>80</td>\n",
       "      <td>0.0</td>\n",
       "      <td>5</td>\n",
       "      <td>27</td>\n",
       "      <td>2</td>\n",
       "      <td>1</td>\n",
       "      <td>6</td>\n",
       "      <td>0.0</td>\n",
       "      <td>0.0</td>\n",
       "      <td>9.84</td>\n",
       "    </tr>\n",
       "    <tr>\n",
       "      <th>3</th>\n",
       "      <td>1</td>\n",
       "      <td>0</td>\n",
       "      <td>0</td>\n",
       "      <td>1</td>\n",
       "      <td>9.84</td>\n",
       "      <td>75</td>\n",
       "      <td>0.0</td>\n",
       "      <td>3</td>\n",
       "      <td>10</td>\n",
       "      <td>3</td>\n",
       "      <td>1</td>\n",
       "      <td>6</td>\n",
       "      <td>0.0</td>\n",
       "      <td>0.0</td>\n",
       "      <td>9.84</td>\n",
       "    </tr>\n",
       "    <tr>\n",
       "      <th>4</th>\n",
       "      <td>1</td>\n",
       "      <td>0</td>\n",
       "      <td>0</td>\n",
       "      <td>1</td>\n",
       "      <td>9.84</td>\n",
       "      <td>75</td>\n",
       "      <td>0.0</td>\n",
       "      <td>0</td>\n",
       "      <td>1</td>\n",
       "      <td>4</td>\n",
       "      <td>1</td>\n",
       "      <td>6</td>\n",
       "      <td>0.0</td>\n",
       "      <td>0.0</td>\n",
       "      <td>9.84</td>\n",
       "    </tr>\n",
       "  </tbody>\n",
       "</table>\n",
       "</div>"
      ],
      "text/plain": [
       "   season  holiday  workingday  weather  temp  humidity  windspeed  casual  \\\n",
       "0       1        0           0        1  9.84        81        0.0       3   \n",
       "1       1        0           0        1  9.02        80        0.0       8   \n",
       "2       1        0           0        1  9.02        80        0.0       5   \n",
       "3       1        0           0        1  9.84        75        0.0       3   \n",
       "4       1        0           0        1  9.84        75        0.0       0   \n",
       "\n",
       "   registered  hour  month  week_day_encoding  windspeed-1  windspeed-2  \\\n",
       "0          13     0      1                  6          NaN          NaN   \n",
       "1          32     1      1                  6          0.0          NaN   \n",
       "2          27     2      1                  6          0.0          0.0   \n",
       "3          10     3      1                  6          0.0          0.0   \n",
       "4           1     4      1                  6          0.0          0.0   \n",
       "\n",
       "   temp+1  \n",
       "0    9.02  \n",
       "1    9.02  \n",
       "2    9.84  \n",
       "3    9.84  \n",
       "4    9.84  "
      ]
     },
     "execution_count": 6,
     "metadata": {},
     "output_type": "execute_result"
    }
   ],
   "source": [
    "# reading train and test\n",
    "train= read_edit('/kaggle/input/bike-sharing-demand/train.csv')\n",
    "test = read_edit('/kaggle/input/bike-sharing-demand/test.csv')\n",
    "\n",
    "test = test.drop(['date','datetime','Time','atemp','label_day_night','week_day'],axis =1)\n",
    "X=train.drop(['count','datetime','Time','date','atemp','label_day_night','week_day'],axis =1)\n",
    "y=train['count'] #the target\n",
    "\n",
    "X.head()"
   ]
  },
  {
   "cell_type": "code",
   "execution_count": 7,
   "id": "5b748392",
   "metadata": {
    "execution": {
     "iopub.execute_input": "2021-09-18T11:30:34.609957Z",
     "iopub.status.busy": "2021-09-18T11:30:34.609294Z",
     "iopub.status.idle": "2021-09-18T11:30:34.618065Z",
     "shell.execute_reply": "2021-09-18T11:30:34.618556Z",
     "shell.execute_reply.started": "2021-09-18T11:28:25.758563Z"
    },
    "papermill": {
     "duration": 0.021008,
     "end_time": "2021-09-18T11:30:34.618782",
     "exception": false,
     "start_time": "2021-09-18T11:30:34.597774",
     "status": "completed"
    },
    "tags": []
   },
   "outputs": [],
   "source": [
    "# train - test split\n",
    "X_train,X_val,y_train,y_val=train_test_split(X,y,test_size=0.1, random_state=42)\n",
    "# xgboost model\n",
    "xg_reg = xgb.XGBRegressor(objective='count:poisson',random_state=42,colsample_bytree = 0.6, learning_rate = 0.1,max_depth=5\n",
    "                 ,alpha = 10, n_estimators = 1000)"
   ]
  },
  {
   "cell_type": "code",
   "execution_count": 8,
   "id": "9322b4c9",
   "metadata": {
    "execution": {
     "iopub.execute_input": "2021-09-18T11:30:34.640367Z",
     "iopub.status.busy": "2021-09-18T11:30:34.639661Z",
     "iopub.status.idle": "2021-09-18T11:30:52.981258Z",
     "shell.execute_reply": "2021-09-18T11:30:52.981825Z",
     "shell.execute_reply.started": "2021-09-18T11:28:25.771352Z"
    },
    "papermill": {
     "duration": 18.354175,
     "end_time": "2021-09-18T11:30:52.982042",
     "exception": false,
     "start_time": "2021-09-18T11:30:34.627867",
     "status": "completed"
    },
    "tags": []
   },
   "outputs": [
    {
     "name": "stdout",
     "output_type": "stream",
     "text": [
      "Accuracy of XGB regressor on train set: 0.99968\n",
      "RMSE-train: 0.026020\n",
      "Accuracy of XGB regressor on test set: 0.99892\n",
      "RMSE-val: 0.038262\n",
      "[0.99840008 0.99873952 0.99871685 0.99831015 0.99833005]\n"
     ]
    }
   ],
   "source": [
    "from sklearn.metrics import mean_squared_log_error\n",
    "# fit the model\n",
    "xg_reg=xg_reg.fit(X_train,y_train)\n",
    "#==========================================================\n",
    "#========================train=============================\n",
    "y_pred=xg_reg.predict(X_train)\n",
    "print('Accuracy of XGB regressor on train set: {:.5f}'.format(xg_reg.score(X_train, y_train)))\n",
    "rmsle_train = np.sqrt(mean_squared_log_error(y_train, y_pred))\n",
    "print(\"RMSE-train: %f\" % (rmsle_train))\n",
    "\n",
    "\n",
    "#==========================================================\n",
    "#======================validation==========================\n",
    "\n",
    "y_pred1=xg_reg.predict(X_val)\n",
    "print('Accuracy of XGB regressor on test set: {:.5f}'.format(xg_reg.score(X_val, y_val)))\n",
    "rmsle = np.sqrt(mean_squared_log_error(y_val, y_pred1))\n",
    "print(\"RMSE-val: %f\" % (rmsle))\n",
    "#==========================================================\n",
    "#====================cross-val=============================\n",
    "scores = cross_val_score(xg_reg, X_train, y_train, cv=5)\n",
    "print(scores)"
   ]
  }
 ],
 "metadata": {
  "kernelspec": {
   "display_name": "Python 3",
   "language": "python",
   "name": "python3"
  },
  "language_info": {
   "codemirror_mode": {
    "name": "ipython",
    "version": 3
   },
   "file_extension": ".py",
   "mimetype": "text/x-python",
   "name": "python",
   "nbconvert_exporter": "python",
   "pygments_lexer": "ipython3",
   "version": "3.7.10"
  },
  "papermill": {
   "default_parameters": {},
   "duration": 29.801953,
   "end_time": "2021-09-18T11:30:54.541469",
   "environment_variables": {},
   "exception": null,
   "input_path": "__notebook__.ipynb",
   "output_path": "__notebook__.ipynb",
   "parameters": {},
   "start_time": "2021-09-18T11:30:24.739516",
   "version": "2.3.3"
  }
 },
 "nbformat": 4,
 "nbformat_minor": 5
}
