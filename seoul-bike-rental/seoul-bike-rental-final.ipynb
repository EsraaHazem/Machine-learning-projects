{
 "cells": [
  {
   "cell_type": "code",
   "execution_count": 1,
   "metadata": {
    "_cell_guid": "b1076dfc-b9ad-4769-8c92-a6c4dae69d19",
    "_uuid": "8f2839f25d086af736a60e9eeb907d3b93b6e0e5",
    "execution": {
     "iopub.execute_input": "2021-08-30T17:09:19.718479Z",
     "iopub.status.busy": "2021-08-30T17:09:19.717367Z",
     "iopub.status.idle": "2021-08-30T17:09:19.730078Z",
     "shell.execute_reply": "2021-08-30T17:09:19.729291Z",
     "shell.execute_reply.started": "2021-08-29T23:34:37.93996Z"
    },
    "papermill": {
     "duration": 0.028863,
     "end_time": "2021-08-30T17:09:19.730238",
     "exception": false,
     "start_time": "2021-08-30T17:09:19.701375",
     "status": "completed"
    },
    "tags": []
   },
   "outputs": [
    {
     "name": "stdout",
     "output_type": "stream",
     "text": [
      "/kaggle/input/seoul-bike-rental-ai-pro-iti/sample_submission.csv\n",
      "/kaggle/input/seoul-bike-rental-ai-pro-iti/train.csv\n",
      "/kaggle/input/seoul-bike-rental-ai-pro-iti/test.csv\n"
     ]
    }
   ],
   "source": [
    "# This Python 3 environment comes with many helpful analytics libraries installed\n",
    "# It is defined by the kaggle/python Docker image: https://github.com/kaggle/docker-python\n",
    "# For example, here's several helpful packages to load\n",
    "\n",
    "import numpy as np # linear algebra\n",
    "import pandas as pd # data processing, CSV file I/O (e.g. pd.read_csv)\n",
    "\n",
    "# Input data files are available in the read-only \"../input/\" directory\n",
    "# For example, running this (by clicking run or pressing Shift+Enter) will list all files under the input directory\n",
    "\n",
    "import os\n",
    "for dirname, _, filenames in os.walk('/kaggle/input'):\n",
    "    for filename in filenames:\n",
    "        print(os.path.join(dirname, filename))\n",
    "\n",
    "# You can write up to 20GB to the current directory (/kaggle/working/) that gets preserved as output when you create a version using \"Save & Run All\" \n",
    "# You can also write temporary files to /kaggle/temp/, but they won't be saved outside of the current session"
   ]
  },
  {
   "cell_type": "code",
   "execution_count": 2,
   "metadata": {
    "execution": {
     "iopub.execute_input": "2021-08-30T17:09:19.759105Z",
     "iopub.status.busy": "2021-08-30T17:09:19.758445Z",
     "iopub.status.idle": "2021-08-30T17:09:20.946776Z",
     "shell.execute_reply": "2021-08-30T17:09:20.947320Z",
     "shell.execute_reply.started": "2021-08-29T23:34:37.966992Z"
    },
    "papermill": {
     "duration": 1.205478,
     "end_time": "2021-08-30T17:09:20.947487",
     "exception": false,
     "start_time": "2021-08-30T17:09:19.742009",
     "status": "completed"
    },
    "tags": []
   },
   "outputs": [],
   "source": [
    "import pandas as pd\n",
    "import numpy as np\n",
    "import seaborn as sns \n",
    "import matplotlib.pyplot as plt\n",
    "import xgboost as xgb\n",
    "from sklearn import preprocessing\n",
    "from sklearn.model_selection import train_test_split\n",
    "from sklearn.model_selection import cross_val_score\n",
    "%matplotlib inline "
   ]
  },
  {
   "cell_type": "markdown",
   "metadata": {
    "papermill": {
     "duration": 0.013486,
     "end_time": "2021-08-30T17:09:20.975281",
     "exception": false,
     "start_time": "2021-08-30T17:09:20.961795",
     "status": "completed"
    },
    "tags": []
   },
   "source": [
    "## Converting time series proplem to regression proplem\n",
    "by getting previous time points for some features"
   ]
  },
  {
   "cell_type": "code",
   "execution_count": 3,
   "metadata": {
    "execution": {
     "iopub.execute_input": "2021-08-30T17:09:21.015520Z",
     "iopub.status.busy": "2021-08-30T17:09:21.014643Z",
     "iopub.status.idle": "2021-08-30T17:09:21.017092Z",
     "shell.execute_reply": "2021-08-30T17:09:21.017615Z",
     "shell.execute_reply.started": "2021-08-29T23:34:38.486732Z"
    },
    "papermill": {
     "duration": 0.026963,
     "end_time": "2021-08-30T17:09:21.017765",
     "exception": false,
     "start_time": "2021-08-30T17:09:20.990802",
     "status": "completed"
    },
    "tags": []
   },
   "outputs": [],
   "source": [
    "def get_lag_time(df,col,n_back):\n",
    "    for i in range(n_back):\n",
    "        df[col+'-'+str(i+1)] = df[col].shift(i+1)\n",
    "    return df"
   ]
  },
  {
   "cell_type": "code",
   "execution_count": 4,
   "metadata": {
    "execution": {
     "iopub.execute_input": "2021-08-30T17:09:21.050983Z",
     "iopub.status.busy": "2021-08-30T17:09:21.049846Z",
     "iopub.status.idle": "2021-08-30T17:09:21.054782Z",
     "shell.execute_reply": "2021-08-30T17:09:21.055296Z",
     "shell.execute_reply.started": "2021-08-29T23:34:38.494799Z"
    },
    "papermill": {
     "duration": 0.023476,
     "end_time": "2021-08-30T17:09:21.055478",
     "exception": false,
     "start_time": "2021-08-30T17:09:21.032002",
     "status": "completed"
    },
    "tags": []
   },
   "outputs": [],
   "source": [
    "def get_lead_time(df,col,n_back):\n",
    "    for i in range(n_back):\n",
    "        df[col+'+'+str(i+1)] = df[col].shift(-(i+1))\n",
    "    return df"
   ]
  },
  {
   "cell_type": "markdown",
   "metadata": {
    "papermill": {
     "duration": 0.01093,
     "end_time": "2021-08-30T17:09:21.077576",
     "exception": false,
     "start_time": "2021-08-30T17:09:21.066646",
     "status": "completed"
    },
    "tags": []
   },
   "source": [
    "## Reading and editing df and test sets"
   ]
  },
  {
   "cell_type": "code",
   "execution_count": 5,
   "metadata": {
    "execution": {
     "iopub.execute_input": "2021-08-30T17:09:21.103766Z",
     "iopub.status.busy": "2021-08-30T17:09:21.102735Z",
     "iopub.status.idle": "2021-08-30T17:09:21.114771Z",
     "shell.execute_reply": "2021-08-30T17:09:21.115270Z",
     "shell.execute_reply.started": "2021-08-29T23:34:38.506577Z"
    },
    "papermill": {
     "duration": 0.026558,
     "end_time": "2021-08-30T17:09:21.115432",
     "exception": false,
     "start_time": "2021-08-30T17:09:21.088874",
     "status": "completed"
    },
    "tags": []
   },
   "outputs": [],
   "source": [
    "def read_edit(path):    \n",
    "        df = pd.read_csv(path)\n",
    "        # renaming columns\n",
    "        names = {'Date':'date','Hour':'hour','Temperature(�C)':'temp',\n",
    "                'Humidity(%)':'humidity','Visibility (10m)':'vis_10',\n",
    "                'Dew point temperature(�C)':'dew_pt_temp','Solar Radiation (MJ/m2)':'solar_rad',\n",
    "                'Rainfall(mm)':'rainfall_mm','Snowfall (cm)':'snowfall_cm','Seasons':'seasons','Holiday':'holiday',\n",
    "                'Functioning Day':'functioning_day','Wind speed (m/s)':'windspeed'}\n",
    "\n",
    "        df.rename(columns=names,inplace=True)\n",
    "\n",
    "        # converting date to date time\n",
    "        df['date']=pd.to_datetime(df['date'],format=\"%d/%m/%Y\")\n",
    "        # making date and night out of hours\n",
    "        df['label_day_night']=df['hour'].apply(lambda x : 'Night' if (x >20 or x<5) else( 'Day'))\n",
    "        # getting day names\n",
    "        df['week_day']=df[\"date\"].dt.day_name()\n",
    "        # getting months\n",
    "        df['month']=df['date'].dt.month\n",
    "        # Encoding days of the week\n",
    "        mapping_dictDay={'Monday':1,'Tuesday':2,'Wednesday':3,'Thursday':4,'Friday':5,'Saturday':6,'Sunday':7}\n",
    "        df['week_day_encoding']=df['week_day'].map(mapping_dictDay)\n",
    "\n",
    "        # getting dummies for seasons,holiday,functioning_day\n",
    "        df = pd.get_dummies(df, columns = ['holiday','functioning_day','seasons'],drop_first=True)\n",
    "\n",
    "        df['date'], Categorical= pd.factorize(df['date'])\n",
    "        df['week_day'], Categorical= pd.factorize(df['week_day'])\n",
    "\n",
    "        # applying lag_time & lead_time\n",
    "        df = get_lag_time(df,'windspeed',2)\n",
    "        df = get_lag_time(df,'rainfall_mm',2)\n",
    "        df = get_lead_time(df,'rainfall_mm',4)\n",
    "        df = get_lead_time(df,'temp',1)\n",
    "        \n",
    "\n",
    "        return df"
   ]
  },
  {
   "cell_type": "code",
   "execution_count": 6,
   "metadata": {
    "execution": {
     "iopub.execute_input": "2021-08-30T17:09:21.145212Z",
     "iopub.status.busy": "2021-08-30T17:09:21.144112Z",
     "iopub.status.idle": "2021-08-30T17:09:21.299360Z",
     "shell.execute_reply": "2021-08-30T17:09:21.299837Z",
     "shell.execute_reply.started": "2021-08-29T23:34:38.521588Z"
    },
    "papermill": {
     "duration": 0.172933,
     "end_time": "2021-08-30T17:09:21.300014",
     "exception": false,
     "start_time": "2021-08-30T17:09:21.127081",
     "status": "completed"
    },
    "tags": []
   },
   "outputs": [
    {
     "data": {
      "text/html": [
       "<div>\n",
       "<style scoped>\n",
       "    .dataframe tbody tr th:only-of-type {\n",
       "        vertical-align: middle;\n",
       "    }\n",
       "\n",
       "    .dataframe tbody tr th {\n",
       "        vertical-align: top;\n",
       "    }\n",
       "\n",
       "    .dataframe thead th {\n",
       "        text-align: right;\n",
       "    }\n",
       "</style>\n",
       "<table border=\"1\" class=\"dataframe\">\n",
       "  <thead>\n",
       "    <tr style=\"text-align: right;\">\n",
       "      <th></th>\n",
       "      <th>hour</th>\n",
       "      <th>temp</th>\n",
       "      <th>humidity</th>\n",
       "      <th>windspeed</th>\n",
       "      <th>vis_10</th>\n",
       "      <th>solar_rad</th>\n",
       "      <th>rainfall_mm</th>\n",
       "      <th>month</th>\n",
       "      <th>week_day_encoding</th>\n",
       "      <th>holiday_No Holiday</th>\n",
       "      <th>...</th>\n",
       "      <th>seasons_Winter</th>\n",
       "      <th>windspeed-1</th>\n",
       "      <th>windspeed-2</th>\n",
       "      <th>rainfall_mm-1</th>\n",
       "      <th>rainfall_mm-2</th>\n",
       "      <th>rainfall_mm+1</th>\n",
       "      <th>rainfall_mm+2</th>\n",
       "      <th>rainfall_mm+3</th>\n",
       "      <th>rainfall_mm+4</th>\n",
       "      <th>temp+1</th>\n",
       "    </tr>\n",
       "  </thead>\n",
       "  <tbody>\n",
       "    <tr>\n",
       "      <th>0</th>\n",
       "      <td>0</td>\n",
       "      <td>-5.2</td>\n",
       "      <td>37</td>\n",
       "      <td>2.2</td>\n",
       "      <td>2000</td>\n",
       "      <td>0.0</td>\n",
       "      <td>0.0</td>\n",
       "      <td>12</td>\n",
       "      <td>5</td>\n",
       "      <td>1</td>\n",
       "      <td>...</td>\n",
       "      <td>1</td>\n",
       "      <td>NaN</td>\n",
       "      <td>NaN</td>\n",
       "      <td>NaN</td>\n",
       "      <td>NaN</td>\n",
       "      <td>0.0</td>\n",
       "      <td>0.0</td>\n",
       "      <td>0.0</td>\n",
       "      <td>0.0</td>\n",
       "      <td>-5.5</td>\n",
       "    </tr>\n",
       "    <tr>\n",
       "      <th>1</th>\n",
       "      <td>1</td>\n",
       "      <td>-5.5</td>\n",
       "      <td>38</td>\n",
       "      <td>0.8</td>\n",
       "      <td>2000</td>\n",
       "      <td>0.0</td>\n",
       "      <td>0.0</td>\n",
       "      <td>12</td>\n",
       "      <td>5</td>\n",
       "      <td>1</td>\n",
       "      <td>...</td>\n",
       "      <td>1</td>\n",
       "      <td>2.2</td>\n",
       "      <td>NaN</td>\n",
       "      <td>0.0</td>\n",
       "      <td>NaN</td>\n",
       "      <td>0.0</td>\n",
       "      <td>0.0</td>\n",
       "      <td>0.0</td>\n",
       "      <td>0.0</td>\n",
       "      <td>-6.0</td>\n",
       "    </tr>\n",
       "    <tr>\n",
       "      <th>2</th>\n",
       "      <td>2</td>\n",
       "      <td>-6.0</td>\n",
       "      <td>39</td>\n",
       "      <td>1.0</td>\n",
       "      <td>2000</td>\n",
       "      <td>0.0</td>\n",
       "      <td>0.0</td>\n",
       "      <td>12</td>\n",
       "      <td>5</td>\n",
       "      <td>1</td>\n",
       "      <td>...</td>\n",
       "      <td>1</td>\n",
       "      <td>0.8</td>\n",
       "      <td>2.2</td>\n",
       "      <td>0.0</td>\n",
       "      <td>0.0</td>\n",
       "      <td>0.0</td>\n",
       "      <td>0.0</td>\n",
       "      <td>0.0</td>\n",
       "      <td>0.0</td>\n",
       "      <td>-6.2</td>\n",
       "    </tr>\n",
       "    <tr>\n",
       "      <th>3</th>\n",
       "      <td>3</td>\n",
       "      <td>-6.2</td>\n",
       "      <td>40</td>\n",
       "      <td>0.9</td>\n",
       "      <td>2000</td>\n",
       "      <td>0.0</td>\n",
       "      <td>0.0</td>\n",
       "      <td>12</td>\n",
       "      <td>5</td>\n",
       "      <td>1</td>\n",
       "      <td>...</td>\n",
       "      <td>1</td>\n",
       "      <td>1.0</td>\n",
       "      <td>0.8</td>\n",
       "      <td>0.0</td>\n",
       "      <td>0.0</td>\n",
       "      <td>0.0</td>\n",
       "      <td>0.0</td>\n",
       "      <td>0.0</td>\n",
       "      <td>0.0</td>\n",
       "      <td>-6.0</td>\n",
       "    </tr>\n",
       "    <tr>\n",
       "      <th>4</th>\n",
       "      <td>4</td>\n",
       "      <td>-6.0</td>\n",
       "      <td>36</td>\n",
       "      <td>2.3</td>\n",
       "      <td>2000</td>\n",
       "      <td>0.0</td>\n",
       "      <td>0.0</td>\n",
       "      <td>12</td>\n",
       "      <td>5</td>\n",
       "      <td>1</td>\n",
       "      <td>...</td>\n",
       "      <td>1</td>\n",
       "      <td>0.9</td>\n",
       "      <td>1.0</td>\n",
       "      <td>0.0</td>\n",
       "      <td>0.0</td>\n",
       "      <td>0.0</td>\n",
       "      <td>0.0</td>\n",
       "      <td>0.0</td>\n",
       "      <td>0.0</td>\n",
       "      <td>-6.4</td>\n",
       "    </tr>\n",
       "  </tbody>\n",
       "</table>\n",
       "<p>5 rows × 23 columns</p>\n",
       "</div>"
      ],
      "text/plain": [
       "   hour  temp  humidity  windspeed  vis_10  solar_rad  rainfall_mm  month  \\\n",
       "0     0  -5.2        37        2.2    2000        0.0          0.0     12   \n",
       "1     1  -5.5        38        0.8    2000        0.0          0.0     12   \n",
       "2     2  -6.0        39        1.0    2000        0.0          0.0     12   \n",
       "3     3  -6.2        40        0.9    2000        0.0          0.0     12   \n",
       "4     4  -6.0        36        2.3    2000        0.0          0.0     12   \n",
       "\n",
       "   week_day_encoding  holiday_No Holiday  ...  seasons_Winter  windspeed-1  \\\n",
       "0                  5                   1  ...               1          NaN   \n",
       "1                  5                   1  ...               1          2.2   \n",
       "2                  5                   1  ...               1          0.8   \n",
       "3                  5                   1  ...               1          1.0   \n",
       "4                  5                   1  ...               1          0.9   \n",
       "\n",
       "   windspeed-2  rainfall_mm-1  rainfall_mm-2  rainfall_mm+1  rainfall_mm+2  \\\n",
       "0          NaN            NaN            NaN            0.0            0.0   \n",
       "1          NaN            0.0            NaN            0.0            0.0   \n",
       "2          2.2            0.0            0.0            0.0            0.0   \n",
       "3          0.8            0.0            0.0            0.0            0.0   \n",
       "4          1.0            0.0            0.0            0.0            0.0   \n",
       "\n",
       "   rainfall_mm+3  rainfall_mm+4  temp+1  \n",
       "0            0.0            0.0    -5.5  \n",
       "1            0.0            0.0    -6.0  \n",
       "2            0.0            0.0    -6.2  \n",
       "3            0.0            0.0    -6.0  \n",
       "4            0.0            0.0    -6.4  \n",
       "\n",
       "[5 rows x 23 columns]"
      ]
     },
     "execution_count": 6,
     "metadata": {},
     "output_type": "execute_result"
    }
   ],
   "source": [
    "# reading train and test data\n",
    "dataset_path = '/kaggle/input/seoul-bike-rental-ai-pro-iti/'\n",
    "train = read_edit(os.path.join(dataset_path, 'train.csv'))\n",
    "test = read_edit(os.path.join(dataset_path,'test.csv'))\n",
    "\n",
    "test = test.drop(['date','dew_pt_temp','label_day_night','week_day','snowfall_cm'],axis =1)\n",
    "X=train.drop(['ID','y','date','dew_pt_temp','label_day_night','week_day','snowfall_cm'],axis =1)\n",
    "y=train['y'] #the target\n",
    "\n",
    "X.head()"
   ]
  },
  {
   "cell_type": "markdown",
   "metadata": {
    "papermill": {
     "duration": 0.011974,
     "end_time": "2021-08-30T17:09:21.323554",
     "exception": false,
     "start_time": "2021-08-30T17:09:21.311580",
     "status": "completed"
    },
    "tags": []
   },
   "source": [
    "## Train test split and mmodel"
   ]
  },
  {
   "cell_type": "code",
   "execution_count": 7,
   "metadata": {
    "execution": {
     "iopub.execute_input": "2021-08-30T17:09:21.353051Z",
     "iopub.status.busy": "2021-08-30T17:09:21.352411Z",
     "iopub.status.idle": "2021-08-30T17:09:21.356385Z",
     "shell.execute_reply": "2021-08-30T17:09:21.356859Z",
     "shell.execute_reply.started": "2021-08-29T23:34:38.668369Z"
    },
    "papermill": {
     "duration": 0.021755,
     "end_time": "2021-08-30T17:09:21.357026",
     "exception": false,
     "start_time": "2021-08-30T17:09:21.335271",
     "status": "completed"
    },
    "tags": []
   },
   "outputs": [],
   "source": [
    "# train - test split\n",
    "X_train,X_val,y_train,y_val=train_test_split(X,y,test_size=0.1, random_state=42)\n",
    "# xgboost model\n",
    "xg_reg = xgb.XGBRegressor(objective='count:poisson',random_state=42,colsample_bytree = 0.6, learning_rate = 0.1,max_depth=5\n",
    "                 ,alpha = 10, n_estimators = 1000)"
   ]
  },
  {
   "cell_type": "markdown",
   "metadata": {
    "papermill": {
     "duration": 0.011528,
     "end_time": "2021-08-30T17:09:21.379991",
     "exception": false,
     "start_time": "2021-08-30T17:09:21.368463",
     "status": "completed"
    },
    "tags": []
   },
   "source": [
    "## fit and evaluate"
   ]
  },
  {
   "cell_type": "code",
   "execution_count": 8,
   "metadata": {
    "execution": {
     "iopub.execute_input": "2021-08-30T17:09:21.406748Z",
     "iopub.status.busy": "2021-08-30T17:09:21.406167Z",
     "iopub.status.idle": "2021-08-30T17:09:37.084338Z",
     "shell.execute_reply": "2021-08-30T17:09:37.084930Z",
     "shell.execute_reply.started": "2021-08-29T23:34:38.681489Z"
    },
    "papermill": {
     "duration": 15.693127,
     "end_time": "2021-08-30T17:09:37.085113",
     "exception": false,
     "start_time": "2021-08-30T17:09:21.391986",
     "status": "completed"
    },
    "tags": []
   },
   "outputs": [
    {
     "name": "stdout",
     "output_type": "stream",
     "text": [
      "RMSE-train: 0.125224\n",
      "RMSE-val: 0.242848\n",
      "RMSE-Crossval 0.26 \n"
     ]
    }
   ],
   "source": [
    "from sklearn.metrics import mean_squared_log_error\n",
    "# fit the model\n",
    "xg_reg=xg_reg.fit(X_train,y_train)\n",
    "#==========================================================\n",
    "#========================train=============================\n",
    "y_pred=xg_reg.predict(X_train)\n",
    "rmsle_train = np.sqrt(mean_squared_log_error(y_train, y_pred))\n",
    "print(\"RMSE-train: %f\" % (rmsle_train))\n",
    "\n",
    "\n",
    "#==========================================================\n",
    "#======================validation==========================\n",
    "\n",
    "y_pred1=xg_reg.predict(X_val)\n",
    "rmsle = np.sqrt(mean_squared_log_error(y_val, y_pred1))\n",
    "print(\"RMSE-val: %f\" % (rmsle))\n",
    "#==========================================================\n",
    "#====================cross-val=============================\n",
    "scores = cross_val_score(xg_reg, X_train, y_train, cv=5,scoring='neg_mean_squared_log_error')\n",
    "print(\"RMSE-Crossval %0.2f \" % (np.sqrt(np.abs(scores.mean()))))\n",
    "\n",
    "\n"
   ]
  },
  {
   "cell_type": "markdown",
   "metadata": {
    "papermill": {
     "duration": 0.012571,
     "end_time": "2021-08-30T17:09:37.112156",
     "exception": false,
     "start_time": "2021-08-30T17:09:37.099585",
     "status": "completed"
    },
    "tags": []
   },
   "source": [
    "## submission"
   ]
  },
  {
   "cell_type": "code",
   "execution_count": 9,
   "metadata": {
    "execution": {
     "iopub.execute_input": "2021-08-30T17:09:37.143792Z",
     "iopub.status.busy": "2021-08-30T17:09:37.143187Z",
     "iopub.status.idle": "2021-08-30T17:09:37.198045Z",
     "shell.execute_reply": "2021-08-30T17:09:37.198491Z",
     "shell.execute_reply.started": "2021-08-29T23:34:58.68398Z"
    },
    "papermill": {
     "duration": 0.073999,
     "end_time": "2021-08-30T17:09:37.198653",
     "exception": false,
     "start_time": "2021-08-30T17:09:37.124654",
     "status": "completed"
    },
    "tags": []
   },
   "outputs": [
    {
     "data": {
      "text/html": [
       "<div>\n",
       "<style scoped>\n",
       "    .dataframe tbody tr th:only-of-type {\n",
       "        vertical-align: middle;\n",
       "    }\n",
       "\n",
       "    .dataframe tbody tr th {\n",
       "        vertical-align: top;\n",
       "    }\n",
       "\n",
       "    .dataframe thead th {\n",
       "        text-align: right;\n",
       "    }\n",
       "</style>\n",
       "<table border=\"1\" class=\"dataframe\">\n",
       "  <thead>\n",
       "    <tr style=\"text-align: right;\">\n",
       "      <th></th>\n",
       "      <th>ID</th>\n",
       "      <th>y</th>\n",
       "    </tr>\n",
       "  </thead>\n",
       "  <tbody>\n",
       "    <tr>\n",
       "      <th>0</th>\n",
       "      <td>5760</td>\n",
       "      <td>168.790660</td>\n",
       "    </tr>\n",
       "    <tr>\n",
       "      <th>1</th>\n",
       "      <td>5761</td>\n",
       "      <td>156.392240</td>\n",
       "    </tr>\n",
       "    <tr>\n",
       "      <th>2</th>\n",
       "      <td>5762</td>\n",
       "      <td>139.500120</td>\n",
       "    </tr>\n",
       "    <tr>\n",
       "      <th>3</th>\n",
       "      <td>5763</td>\n",
       "      <td>99.970400</td>\n",
       "    </tr>\n",
       "    <tr>\n",
       "      <th>4</th>\n",
       "      <td>5764</td>\n",
       "      <td>60.855278</td>\n",
       "    </tr>\n",
       "    <tr>\n",
       "      <th>...</th>\n",
       "      <td>...</td>\n",
       "      <td>...</td>\n",
       "    </tr>\n",
       "    <tr>\n",
       "      <th>2995</th>\n",
       "      <td>8755</td>\n",
       "      <td>927.762300</td>\n",
       "    </tr>\n",
       "    <tr>\n",
       "      <th>2996</th>\n",
       "      <td>8756</td>\n",
       "      <td>671.425000</td>\n",
       "    </tr>\n",
       "    <tr>\n",
       "      <th>2997</th>\n",
       "      <td>8757</td>\n",
       "      <td>577.484000</td>\n",
       "    </tr>\n",
       "    <tr>\n",
       "      <th>2998</th>\n",
       "      <td>8758</td>\n",
       "      <td>412.845600</td>\n",
       "    </tr>\n",
       "    <tr>\n",
       "      <th>2999</th>\n",
       "      <td>8759</td>\n",
       "      <td>252.259300</td>\n",
       "    </tr>\n",
       "  </tbody>\n",
       "</table>\n",
       "<p>3000 rows × 2 columns</p>\n",
       "</div>"
      ],
      "text/plain": [
       "        ID           y\n",
       "0     5760  168.790660\n",
       "1     5761  156.392240\n",
       "2     5762  139.500120\n",
       "3     5763   99.970400\n",
       "4     5764   60.855278\n",
       "...    ...         ...\n",
       "2995  8755  927.762300\n",
       "2996  8756  671.425000\n",
       "2997  8757  577.484000\n",
       "2998  8758  412.845600\n",
       "2999  8759  252.259300\n",
       "\n",
       "[3000 rows x 2 columns]"
      ]
     },
     "execution_count": 9,
     "metadata": {},
     "output_type": "execute_result"
    }
   ],
   "source": [
    "y_pred2 = xg_reg.predict(test.drop(['ID'],axis=1))\n",
    "test['y'] = y_pred2\n",
    "test[['ID', 'y']].to_csv('sub_x.csv', index=False)\n",
    "f = pd.read_csv('sub_x.csv')\n",
    "f"
   ]
  }
 ],
 "metadata": {
  "kernelspec": {
   "display_name": "Python 3",
   "language": "python",
   "name": "python3"
  },
  "language_info": {
   "codemirror_mode": {
    "name": "ipython",
    "version": 3
   },
   "file_extension": ".py",
   "mimetype": "text/x-python",
   "name": "python",
   "nbconvert_exporter": "python",
   "pygments_lexer": "ipython3",
   "version": "3.8.5"
  },
  "papermill": {
   "default_parameters": {},
   "duration": 26.731291,
   "end_time": "2021-08-30T17:09:38.631371",
   "environment_variables": {},
   "exception": null,
   "input_path": "__notebook__.ipynb",
   "output_path": "__notebook__.ipynb",
   "parameters": {},
   "start_time": "2021-08-30T17:09:11.900080",
   "version": "2.3.3"
  }
 },
 "nbformat": 4,
 "nbformat_minor": 5
}
