{
 "cells": [
  {
   "cell_type": "code",
   "execution_count": 1,
   "metadata": {},
   "outputs": [],
   "source": [
    "import numpy as np\n",
    "import pandas as pd\n",
    "import seaborn as sns\n",
    "import matplotlib.pyplot as plt\n",
    "import itertools"
   ]
  },
  {
   "cell_type": "code",
   "execution_count": 2,
   "metadata": {},
   "outputs": [],
   "source": [
    "data=[[1,2],[3,4],[2.5,4],[1.5,2.5],[3,5],[2.8,4.5],[2.5,4.5],[1.2,2.5],[1,3],[1,5],[1,2.5],[5,6],[4,3]]\n",
    "df=pd.DataFrame(data,columns=['X','Y'])"
   ]
  },
  {
   "cell_type": "code",
   "execution_count": 3,
   "metadata": {},
   "outputs": [
    {
     "data": {
      "text/html": [
       "<div>\n",
       "<style scoped>\n",
       "    .dataframe tbody tr th:only-of-type {\n",
       "        vertical-align: middle;\n",
       "    }\n",
       "\n",
       "    .dataframe tbody tr th {\n",
       "        vertical-align: top;\n",
       "    }\n",
       "\n",
       "    .dataframe thead th {\n",
       "        text-align: right;\n",
       "    }\n",
       "</style>\n",
       "<table border=\"1\" class=\"dataframe\">\n",
       "  <thead>\n",
       "    <tr style=\"text-align: right;\">\n",
       "      <th></th>\n",
       "      <th>X</th>\n",
       "      <th>Y</th>\n",
       "    </tr>\n",
       "  </thead>\n",
       "  <tbody>\n",
       "    <tr>\n",
       "      <th>0</th>\n",
       "      <td>1.0</td>\n",
       "      <td>2.0</td>\n",
       "    </tr>\n",
       "    <tr>\n",
       "      <th>1</th>\n",
       "      <td>3.0</td>\n",
       "      <td>4.0</td>\n",
       "    </tr>\n",
       "    <tr>\n",
       "      <th>2</th>\n",
       "      <td>2.5</td>\n",
       "      <td>4.0</td>\n",
       "    </tr>\n",
       "    <tr>\n",
       "      <th>3</th>\n",
       "      <td>1.5</td>\n",
       "      <td>2.5</td>\n",
       "    </tr>\n",
       "    <tr>\n",
       "      <th>4</th>\n",
       "      <td>3.0</td>\n",
       "      <td>5.0</td>\n",
       "    </tr>\n",
       "  </tbody>\n",
       "</table>\n",
       "</div>"
      ],
      "text/plain": [
       "     X    Y\n",
       "0  1.0  2.0\n",
       "1  3.0  4.0\n",
       "2  2.5  4.0\n",
       "3  1.5  2.5\n",
       "4  3.0  5.0"
      ]
     },
     "execution_count": 3,
     "metadata": {},
     "output_type": "execute_result"
    }
   ],
   "source": [
    "df.head()"
   ]
  },
  {
   "cell_type": "code",
   "execution_count": 4,
   "metadata": {},
   "outputs": [
    {
     "data": {
      "image/png": "[encoded data removed]",
      "text/plain": [
       "<Figure size 576x576 with 1 Axes>"
      ]
     },
     "metadata": {
      "needs_background": "light"
     },
     "output_type": "display_data"
    }
   ],
   "source": [
    "plt.figure(figsize=(8,8))\n",
    "sns.scatterplot(x='X',y='Y',data = df)\n",
    "plt.show()"
   ]
  },
  {
   "cell_type": "markdown",
   "metadata": {},
   "source": [
    "### finding neighbor "
   ]
  },
  {
   "cell_type": "code",
   "execution_count": 5,
   "metadata": {},
   "outputs": [],
   "source": [
    "def point_neighbor(data,epthlon):\n",
    "    data=data.to_numpy()\n",
    "    N=[]\n",
    "    t_N=[]\n",
    "    for x in data:\n",
    "        N=[]\n",
    "        for i in data:\n",
    "            d=np.linalg.norm(x-i)\n",
    "            if d<=epthlon:\n",
    "                N.append(i)\n",
    "        t_N.append(N)\n",
    "    return t_N"
   ]
  },
  {
   "cell_type": "markdown",
   "metadata": {},
   "source": [
    "### detect cluster , core point , border point ,noise point"
   ]
  },
  {
   "cell_type": "code",
   "execution_count": 6,
   "metadata": {},
   "outputs": [],
   "source": [
    "def cluster(df,t_N,min_point):\n",
    "    outlier=[]\n",
    "    core=[]\n",
    "    border=[]\n",
    "    t=0\n",
    "    noise_point=[]\n",
    "    core_point=[]\n",
    "    border_point=[]\n",
    "    for i in t_N:\n",
    "        if len(i)>= (min_point+1):\n",
    "            core.append(i)\n",
    "            core_point.append(list(df.iloc[t]))\n",
    "            t=t+1\n",
    "        elif len(i) == 1:\n",
    "            outlier.append(i)\n",
    "            noise_point.append(list(df.iloc[t]))\n",
    "            t=t+1                  \n",
    "        elif len(i) < (min_point+1):\n",
    "            border.append(i)\n",
    "            border_point.append(list(df.iloc[t]))\n",
    "            t=t+1\n",
    "    final_core=[]\n",
    "    for i in core:\n",
    "        x=[l.tolist() for l in i]\n",
    "        final_core.append(x)\n",
    "    final_core = list(num for num,_ in itertools.groupby(sorted(final_core)))\n",
    "    final_border=[]\n",
    "    for i in border:\n",
    "        x=[l.tolist() for l in i]\n",
    "        final_border.append(x)\n",
    "    final_outlier=[]\n",
    "    for i in outlier:\n",
    "        x=[l.tolist() for l in i]\n",
    "        final_outlier.append(x[0])\n",
    "    final_core.append(final_outlier)\n",
    "                            \n",
    "    return final_core,border_point,noise_point,core_point            "
   ]
  },
  {
   "cell_type": "markdown",
   "metadata": {},
   "source": [
    "### find common points between clusters"
   ]
  },
  {
   "cell_type": "code",
   "execution_count": 7,
   "metadata": {},
   "outputs": [],
   "source": [
    "def common_point(cluster1,cluster2):\n",
    "    for ele in cluster1:\n",
    "        if ele in cluster2:\n",
    "            cluster1.extend(cluster2)\n",
    "            cluster1.sort()\n",
    "            cluster1 = list(cluster1 for cluster1,_ in itertools.groupby(cluster1))\n",
    "            return True, cluster1\n",
    "    return False , 0\n",
    "    "
   ]
  },
  {
   "cell_type": "markdown",
   "metadata": {},
   "source": [
    "### merge clusters with common point"
   ]
  },
  {
   "cell_type": "code",
   "execution_count": 8,
   "metadata": {},
   "outputs": [],
   "source": [
    "def denisty_connected(final_core):\n",
    "    num_cluster=len(final_core)\n",
    "    cluster=[]\n",
    "    for i in range(num_cluster-1):\n",
    "        for j in range(num_cluster-1):\n",
    "            p, cluster1=common_point(final_core[i],final_core[j])\n",
    "            if p==True:\n",
    "                cluster.append(cluster1) \n",
    "    cluster.append(final_core[num_cluster-1])\n",
    "    cluster = list(num for num,_ in itertools.groupby(sorted(cluster)))\n",
    "    return cluster\n",
    "                "
   ]
  },
  {
   "cell_type": "markdown",
   "metadata": {},
   "source": [
    "### cluster label to data"
   ]
  },
  {
   "cell_type": "code",
   "execution_count": 9,
   "metadata": {},
   "outputs": [],
   "source": [
    "def label_c(df,final_cluster):\n",
    "    label=[]\n",
    "    for i in range(len(df)):\n",
    "        for j in final_cluster:\n",
    "            if list(df.iloc[i]) in j:\n",
    "                label.append(final_cluster.index(j))\n",
    "    label=np.array(label)\n",
    "    return label\n",
    "    "
   ]
  },
  {
   "cell_type": "markdown",
   "metadata": {},
   "source": [
    "### the main function"
   ]
  },
  {
   "cell_type": "code",
   "execution_count": 10,
   "metadata": {},
   "outputs": [],
   "source": [
    "def dbscan(df,e,min_point):\n",
    "    t_N=point_neighbor(df,e)\n",
    "    final_core,border_point,noise_point,core_point=cluster(df,t_N,min_point)\n",
    "    final_cluster=denisty_connected(final_core)\n",
    "    label=label_c(df,final_cluster)\n",
    "    return final_cluster,border_point,noise_point,core_point,label    "
   ]
  },
  {
   "cell_type": "code",
   "execution_count": 11,
   "metadata": {},
   "outputs": [
    {
     "name": "stdout",
     "output_type": "stream",
     "text": [
      "final_cluster\n",
      "[[1.0, 2.0], [1.0, 2.5], [1.0, 3.0], [1.2, 2.5], [1.5, 2.5]]\n",
      "[[1.0, 5.0], [5.0, 6.0], [4.0, 3.0]]\n",
      "[[2.5, 4.0], [2.5, 4.5], [2.8, 4.5], [3.0, 4.0], [3.0, 5.0]]\n",
      "core_point\n",
      "[[2.8, 4.5], [1.2, 2.5], [1.0, 2.5]]\n",
      "noise_point\n",
      "[[1.0, 5.0], [5.0, 6.0], [4.0, 3.0]]\n",
      "border_point\n",
      "[[1.0, 2.0], [3.0, 4.0], [2.5, 4.0], [1.5, 2.5], [3.0, 5.0], [2.5, 4.5], [1.0, 3.0]]\n",
      "label\n",
      "[0 2 2 0 2 2 2 0 0 1 0 1 1]\n"
     ]
    }
   ],
   "source": [
    "final_cluster,border_point,noise_point,core_point,label=dbscan(df,0.6,4)\n",
    "print('final_cluster')\n",
    "for i in final_cluster:\n",
    "    print(i)\n",
    "print('core_point')\n",
    "print(core_point)\n",
    "print('noise_point')\n",
    "print(noise_point)\n",
    "print('border_point')\n",
    "print(border_point)\n",
    "print('label')\n",
    "print(label)"
   ]
  },
  {
   "cell_type": "code",
   "execution_count": 12,
   "metadata": {},
   "outputs": [
    {
     "data": {
      "image/png": "[encoded data removed]",
      "text/plain": [
       "<Figure size 576x576 with 1 Axes>"
      ]
     },
     "metadata": {
      "needs_background": "light"
     },
     "output_type": "display_data"
    }
   ],
   "source": [
    "plt.figure(figsize=(8,8))\n",
    "sns.scatterplot(x='X',y='Y',data = df,hue=label)\n",
    "plt.show()"
   ]
  },
  {
   "cell_type": "code",
   "execution_count": null,
   "metadata": {},
   "outputs": [],
   "source": []
  }
 ],
 "metadata": {
  "kernelspec": {
   "display_name": "Python 3",
   "language": "python",
   "name": "python3"
  },
  "language_info": {
   "codemirror_mode": {
    "name": "ipython",
    "version": 3
   },
   "file_extension": ".py",
   "mimetype": "text/x-python",
   "name": "python",
   "nbconvert_exporter": "python",
   "pygments_lexer": "ipython3",
   "version": "3.8.5"
  }
 },
 "nbformat": 4,
 "nbformat_minor": 4
}
